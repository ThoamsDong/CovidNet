{
  "nbformat": 4,
  "nbformat_minor": 0,
  "metadata": {
    "colab": {
      "name": "it's corona time again.ipynb",
      "provenance": [],
      "authorship_tag": "ABX9TyM8mvOpVJldMR1QUTmspbDG",
      "include_colab_link": true
    },
    "kernelspec": {
      "name": "python3",
      "display_name": "Python 3"
    },
    "accelerator": "GPU"
  },
  "cells": [
    {
      "cell_type": "markdown",
      "metadata": {
        "id": "view-in-github",
        "colab_type": "text"
      },
      "source": [
        "<a href=\"https://colab.research.google.com/github/smaranjitghose/CovidNet/blob/master/coronanet1.ipynb\" target=\"_parent\"><img src=\"https://colab.research.google.com/assets/colab-badge.svg\" alt=\"Open In Colab\"/></a>"
      ]
    },
    {
      "cell_type": "code",
      "metadata": {
        "id": "5Slhpv6A-elS",
        "colab_type": "code",
        "colab": {
          "base_uri": "https://localhost:8080/",
          "height": 35
        },
        "outputId": "c847a978-8e6a-46b3-e20e-7b69b920e5e9"
      },
      "source": [
        "from tensorflow.keras.preprocessing.image import ImageDataGenerator\n",
        "from tensorflow.keras.applications import VGG16\n",
        "from tensorflow.keras.layers import AveragePooling2D\n",
        "from tensorflow.keras.layers import Dropout\n",
        "from tensorflow.keras.layers import Flatten\n",
        "from tensorflow.keras.layers import Dense\n",
        "from tensorflow.keras.layers import Input\n",
        "from tensorflow.keras.models import Model\n",
        "from tensorflow.keras.optimizers import Adam\n",
        "from tensorflow.keras.utils import to_categorical\n",
        "from sklearn.preprocessing import LabelBinarizer\n",
        "from sklearn.model_selection import train_test_split\n",
        "from sklearn.metrics import classification_report\n",
        "from sklearn.metrics import confusion_matrix\n",
        "!pip install imutils\n",
        "from imutils import paths\n",
        "import matplotlib.pyplot as plt\n",
        "import argparse\n",
        "import cv2\n",
        "import os\n",
        "import numpy as np"
      ],
      "execution_count": 4,
      "outputs": [
        {
          "output_type": "stream",
          "text": [
            "Requirement already satisfied: imutils in /usr/local/lib/python3.6/dist-packages (0.5.3)\n"
          ],
          "name": "stdout"
        }
      ]
    },
    {
      "cell_type": "code",
      "metadata": {
        "id": "TeTFykhb-rPy",
        "colab_type": "code",
        "colab": {}
      },
      "source": [
        "# initialize the initial learning rate, number of epochs to train for,\n",
        "# and batch size\n",
        "INIT_LR = 1e-3\n",
        "EPOCHS = 30\n",
        "BS = 8"
      ],
      "execution_count": 0,
      "outputs": []
    },
    {
      "cell_type": "code",
      "metadata": {
        "id": "XWdTYwZz_dCZ",
        "colab_type": "code",
        "colab": {
          "base_uri": "https://localhost:8080/",
          "height": 35
        },
        "outputId": "9444f8cf-5c3e-4fd5-8dbf-7b199008838c"
      },
      "source": [
        "# grab the list of images in our dataset directory, then initialize\n",
        "# the list of data (i.e., images) and class images\n",
        "print(\"[INFO] loading images...\")\n",
        "imagePaths = list(paths.list_images(\"/content/drive/My Drive/Something out of bounds\"))\n",
        "data = []\n",
        "labels = []\n",
        "\n",
        "# loop over the image paths\n",
        "for imagePath in imagePaths:\n",
        "    # extract the class label from the filename\n",
        "    label = imagePath.split(os.path.sep)[-2]\n",
        "\n",
        "    # load the image, swap color channels, and resize it to be a fixed\n",
        "    # 224x224 pixels while ignoring aspect ratio\n",
        "    image = cv2.imread(imagePath)\n",
        "    image = cv2.cvtColor(image, cv2.COLOR_BGR2RGB)\n",
        "    image = cv2.resize(image, (224, 224))\n",
        "\n",
        "    # update the data and labels lists, respectively\n",
        "    data.append(image)\n",
        "    labels.append(label)\n",
        "    \n",
        "# convert the data and labels to NumPy arrays while scaling the pixel\n",
        "# intensities to the range [0, 255]\n",
        "data = np.array(data) / 255.0\n",
        "labels = np.array(labels)\n",
        "\n",
        "# perform one-hot encoding on the labels\n",
        "lb = LabelBinarizer()\n",
        "labels = lb.fit_transform(labels)\n",
        "labels = to_categorical(labels)"
      ],
      "execution_count": 10,
      "outputs": [
        {
          "output_type": "stream",
          "text": [
            "[INFO] loading images...\n"
          ],
          "name": "stdout"
        }
      ]
    },
    {
      "cell_type": "code",
      "metadata": {
        "id": "zxmBxmrnBJjH",
        "colab_type": "code",
        "colab": {}
      },
      "source": [
        "# partition the data into training and testing splits using 80% of\n",
        "# the data for training and the remaining 20% for testing\n",
        "trainX, testX, trainY, testY = train_test_split(data, labels, test_size=0.20, stratify=labels, random_state=42)"
      ],
      "execution_count": 0,
      "outputs": []
    },
    {
      "cell_type": "code",
      "metadata": {
        "id": "zkGVJ6u2_kJi",
        "colab_type": "code",
        "colab": {}
      },
      "source": [
        "# initialize the training data augmentation object\n",
        "trainAug = ImageDataGenerator(rotation_range=15, fill_mode=\"nearest\")"
      ],
      "execution_count": 0,
      "outputs": []
    },
    {
      "cell_type": "code",
      "metadata": {
        "id": "cJi1QihyAOu6",
        "colab_type": "code",
        "colab": {
          "base_uri": "https://localhost:8080/",
          "height": 126
        },
        "outputId": "10fdf0d5-3b03-403f-ef08-5d40c0215bb1"
      },
      "source": [
        "# load the VGG16 network, ensuring the head FC layer sets are left off\n",
        "baseModel = VGG16(weights=\"imagenet\", include_top=False, input_tensor=Input(shape=(224, 224, 3)))\n"
      ],
      "execution_count": 13,
      "outputs": [
        {
          "output_type": "stream",
          "text": [
            "WARNING:tensorflow:From /tensorflow-1.15.0/python3.6/tensorflow_core/python/ops/resource_variable_ops.py:1630: calling BaseResourceVariable.__init__ (from tensorflow.python.ops.resource_variable_ops) with constraint is deprecated and will be removed in a future version.\n",
            "Instructions for updating:\n",
            "If using Keras pass *_constraint arguments to layers.\n",
            "Downloading data from https://github.com/fchollet/deep-learning-models/releases/download/v0.1/vgg16_weights_tf_dim_ordering_tf_kernels_notop.h5\n",
            "58892288/58889256 [==============================] - 5s 0us/step\n"
          ],
          "name": "stdout"
        }
      ]
    },
    {
      "cell_type": "code",
      "metadata": {
        "id": "ZAVtqgIyASK3",
        "colab_type": "code",
        "colab": {}
      },
      "source": [
        "# construct the head of the model that will be placed on top of the base model\n",
        "headModel = baseModel.output\n",
        "headModel = AveragePooling2D(pool_size=(4, 4))(headModel)\n",
        "headModel = Flatten(name=\"flatten\")(headModel)\n",
        "headModel = Dense(64, activation=\"relu\")(headModel)\n",
        "headModel = Dropout(0.5)(headModel)\n",
        "headModel = Dense(2, activation=\"softmax\")(headModel)\n",
        "\n",
        "# place the head FC model on top of the base model (this will become the actual model we will train)\n",
        "model = Model(inputs=baseModel.input, outputs=headModel)"
      ],
      "execution_count": 0,
      "outputs": []
    },
    {
      "cell_type": "code",
      "metadata": {
        "id": "oaFZ7Ga9AT34",
        "colab_type": "code",
        "colab": {}
      },
      "source": [
        "# loop over all layers in the base model and freeze them so they will not be updated during the first training process\n",
        "for layer in baseModel.layers:\n",
        "    layer.trainable = False"
      ],
      "execution_count": 0,
      "outputs": []
    },
    {
      "cell_type": "code",
      "metadata": {
        "id": "OCcPiCw7AWHO",
        "colab_type": "code",
        "colab": {
          "base_uri": "https://localhost:8080/",
          "height": 35
        },
        "outputId": "d3503f44-b63b-4053-f7b9-d2fdbda3c7d7"
      },
      "source": [
        "# compile our model\n",
        "print(\"[INFO] compiling model...\")\n",
        "opt = Adam(lr=INIT_LR, decay=INIT_LR / EPOCHS)\n",
        "model.compile(loss=\"binary_crossentropy\", optimizer=opt, metrics=[\"accuracy\"])\n",
        "# partition the data into training and testing splits using 80% of\n",
        "# the data for training and the remaining 20% for testing\n",
        "trainX, testX, trainY, testY = train_test_split(data, labels, test_size=0.20, stratify=labels, random_state=42)"
      ],
      "execution_count": 16,
      "outputs": [
        {
          "output_type": "stream",
          "text": [
            "[INFO] compiling model...\n"
          ],
          "name": "stdout"
        }
      ]
    },
    {
      "cell_type": "code",
      "metadata": {
        "id": "7ewzgVChAYFz",
        "colab_type": "code",
        "colab": {
          "base_uri": "https://localhost:8080/",
          "height": 1000
        },
        "outputId": "b5a65398-452d-4732-e484-33f953876fe5"
      },
      "source": [
        "# train the head of the network\n",
        "print(\"[INFO] training head...\")\n",
        "H = model.fit_generator(\n",
        "    trainAug.flow(trainX, trainY, batch_size=BS),\n",
        "    steps_per_epoch=len(trainX) // BS,\n",
        "    validation_data=(testX, testY),\n",
        "    validation_steps=len(testX) // BS,\n",
        "    epochs=EPOCHS)"
      ],
      "execution_count": 17,
      "outputs": [
        {
          "output_type": "stream",
          "text": [
            "[INFO] training head...\n",
            "Epoch 1/30\n",
            "WARNING:tensorflow:From /tensorflow-1.15.0/python3.6/tensorflow_core/python/ops/math_grad.py:1424: where (from tensorflow.python.ops.array_ops) is deprecated and will be removed in a future version.\n",
            "Instructions for updating:\n",
            "Use tf.where in 2.0, which has the same broadcast rule as np.where\n",
            "4/5 [=======================>......] - ETA: 1s - loss: 0.8972 - acc: 0.5312Epoch 1/30\n",
            "10/5 [============================================================] - 1s 70ms/sample - loss: 0.7248 - acc: 0.5000\n",
            "5/5 [==============================] - 8s 2s/step - loss: 0.9924 - acc: 0.4750 - val_loss: 0.7279 - val_acc: 0.5000\n",
            "Epoch 2/30\n",
            "4/5 [=======================>......] - ETA: 0s - loss: 0.6509 - acc: 0.6562Epoch 1/30\n",
            "10/5 [============================================================] - 0s 8ms/sample - loss: 0.6475 - acc: 0.6000\n",
            "5/5 [==============================] - 0s 75ms/step - loss: 0.7265 - acc: 0.6000 - val_loss: 0.6612 - val_acc: 0.6000\n",
            "Epoch 3/30\n",
            "4/5 [=======================>......] - ETA: 0s - loss: 0.7131 - acc: 0.6562Epoch 1/30\n",
            "10/5 [============================================================] - 0s 8ms/sample - loss: 0.6440 - acc: 0.6000\n",
            "5/5 [==============================] - 0s 100ms/step - loss: 0.7724 - acc: 0.6250 - val_loss: 0.6632 - val_acc: 0.6000\n",
            "Epoch 4/30\n",
            "4/5 [=======================>......] - ETA: 0s - loss: 0.6139 - acc: 0.6875Epoch 1/30\n",
            "10/5 [============================================================] - 0s 9ms/sample - loss: 0.6054 - acc: 0.6000\n",
            "5/5 [==============================] - 1s 102ms/step - loss: 0.6857 - acc: 0.6250 - val_loss: 0.6276 - val_acc: 0.6000\n",
            "Epoch 5/30\n",
            "4/5 [=======================>......] - ETA: 0s - loss: 0.6472 - acc: 0.6250Epoch 1/30\n",
            "10/5 [============================================================] - 0s 8ms/sample - loss: 0.5822 - acc: 0.6000\n",
            "5/5 [==============================] - 1s 109ms/step - loss: 0.6785 - acc: 0.6250 - val_loss: 0.6070 - val_acc: 0.6000\n",
            "Epoch 6/30\n",
            "4/5 [=======================>......] - ETA: 0s - loss: 0.7026 - acc: 0.5312Epoch 1/30\n",
            "10/5 [============================================================] - 0s 8ms/sample - loss: 0.5809 - acc: 0.6000\n",
            "5/5 [==============================] - 1s 115ms/step - loss: 0.6539 - acc: 0.6250 - val_loss: 0.6079 - val_acc: 0.6000\n",
            "Epoch 7/30\n",
            "4/5 [=======================>......] - ETA: 0s - loss: 0.6214 - acc: 0.6875Epoch 1/30\n",
            "10/5 [============================================================] - 0s 9ms/sample - loss: 0.5554 - acc: 0.6000\n",
            "5/5 [==============================] - 1s 115ms/step - loss: 0.6160 - acc: 0.7000 - val_loss: 0.5884 - val_acc: 0.6000\n",
            "Epoch 8/30\n",
            "4/5 [=======================>......] - ETA: 0s - loss: 0.6235 - acc: 0.6562Epoch 1/30\n",
            "10/5 [============================================================] - 0s 8ms/sample - loss: 0.5324 - acc: 0.8000\n",
            "5/5 [==============================] - 1s 102ms/step - loss: 0.6137 - acc: 0.6500 - val_loss: 0.5714 - val_acc: 0.8000\n",
            "Epoch 9/30\n",
            "4/5 [=======================>......] - ETA: 0s - loss: 0.6158 - acc: 0.6562Epoch 1/30\n",
            "10/5 [============================================================] - 0s 8ms/sample - loss: 0.5188 - acc: 0.7000\n",
            "5/5 [==============================] - 1s 112ms/step - loss: 0.6200 - acc: 0.6250 - val_loss: 0.5628 - val_acc: 0.7000\n",
            "Epoch 10/30\n",
            "4/5 [=======================>......] - ETA: 0s - loss: 0.4879 - acc: 0.7500Epoch 1/30\n",
            "10/5 [============================================================] - 0s 8ms/sample - loss: 0.5073 - acc: 0.6000\n",
            "5/5 [==============================] - 1s 105ms/step - loss: 0.5179 - acc: 0.7000 - val_loss: 0.5550 - val_acc: 0.6000\n",
            "Epoch 11/30\n",
            "4/5 [=======================>......] - ETA: 0s - loss: 0.4428 - acc: 0.8438Epoch 1/30\n",
            "10/5 [============================================================] - 0s 9ms/sample - loss: 0.5081 - acc: 0.6000\n",
            "5/5 [==============================] - 1s 108ms/step - loss: 0.4407 - acc: 0.8750 - val_loss: 0.5581 - val_acc: 0.6000\n",
            "Epoch 12/30\n",
            "4/5 [=======================>......] - ETA: 0s - loss: 0.4490 - acc: 0.8125Epoch 1/30\n",
            "10/5 [============================================================] - 0s 9ms/sample - loss: 0.4937 - acc: 0.6000\n",
            "5/5 [==============================] - 1s 116ms/step - loss: 0.4541 - acc: 0.8000 - val_loss: 0.5458 - val_acc: 0.6000\n",
            "Epoch 13/30\n",
            "4/5 [=======================>......] - ETA: 0s - loss: 0.4136 - acc: 0.9062Epoch 1/30\n",
            "10/5 [============================================================] - 0s 9ms/sample - loss: 0.4732 - acc: 0.6000\n",
            "5/5 [==============================] - 1s 108ms/step - loss: 0.4274 - acc: 0.8750 - val_loss: 0.5281 - val_acc: 0.6000\n",
            "Epoch 14/30\n",
            "4/5 [=======================>......] - ETA: 0s - loss: 0.3873 - acc: 0.8438Epoch 1/30\n",
            "10/5 [============================================================] - 0s 8ms/sample - loss: 0.4568 - acc: 0.8000\n",
            "5/5 [==============================] - 1s 101ms/step - loss: 0.3892 - acc: 0.8750 - val_loss: 0.5145 - val_acc: 0.8000\n",
            "Epoch 15/30\n",
            "4/5 [=======================>......] - ETA: 0s - loss: 0.4188 - acc: 0.8438Epoch 1/30\n",
            "10/5 [============================================================] - 0s 9ms/sample - loss: 0.4447 - acc: 0.8000\n",
            "5/5 [==============================] - 1s 103ms/step - loss: 0.4062 - acc: 0.8750 - val_loss: 0.5055 - val_acc: 0.8000\n",
            "Epoch 16/30\n",
            "4/5 [=======================>......] - ETA: 0s - loss: 0.3804 - acc: 0.8750Epoch 1/30\n",
            "10/5 [============================================================] - 0s 8ms/sample - loss: 0.4351 - acc: 0.6000\n",
            "5/5 [==============================] - 1s 100ms/step - loss: 0.3759 - acc: 0.9000 - val_loss: 0.4984 - val_acc: 0.6000\n",
            "Epoch 17/30\n",
            "4/5 [=======================>......] - ETA: 0s - loss: 0.4388 - acc: 0.8750Epoch 1/30\n",
            "10/5 [============================================================] - 0s 8ms/sample - loss: 0.4257 - acc: 0.6000\n",
            "5/5 [==============================] - 1s 119ms/step - loss: 0.4308 - acc: 0.8750 - val_loss: 0.4904 - val_acc: 0.6000\n",
            "Epoch 18/30\n",
            "4/5 [=======================>......] - ETA: 0s - loss: 0.4151 - acc: 0.9062Epoch 1/30\n",
            "10/5 [============================================================] - 0s 8ms/sample - loss: 0.4155 - acc: 0.6000\n",
            "5/5 [==============================] - 1s 109ms/step - loss: 0.4003 - acc: 0.9000 - val_loss: 0.4823 - val_acc: 0.6000\n",
            "Epoch 19/30\n",
            "4/5 [=======================>......] - ETA: 0s - loss: 0.3697 - acc: 0.8750Epoch 1/30\n",
            "10/5 [============================================================] - 0s 9ms/sample - loss: 0.3974 - acc: 0.7000\n",
            "5/5 [==============================] - 1s 103ms/step - loss: 0.3799 - acc: 0.8750 - val_loss: 0.4663 - val_acc: 0.7000\n",
            "Epoch 20/30\n",
            "4/5 [=======================>......] - ETA: 0s - loss: 0.3303 - acc: 0.9688Epoch 1/30\n",
            "10/5 [============================================================] - 0s 8ms/sample - loss: 0.3864 - acc: 0.7000\n",
            "5/5 [==============================] - 0s 98ms/step - loss: 0.3192 - acc: 0.9750 - val_loss: 0.4576 - val_acc: 0.7000\n",
            "Epoch 21/30\n",
            "4/5 [=======================>......] - ETA: 0s - loss: 0.3629 - acc: 0.9062Epoch 1/30\n",
            "10/5 [============================================================] - 0s 9ms/sample - loss: 0.3727 - acc: 0.7000\n",
            "5/5 [==============================] - 1s 102ms/step - loss: 0.3541 - acc: 0.9250 - val_loss: 0.4455 - val_acc: 0.7000\n",
            "Epoch 22/30\n",
            "4/5 [=======================>......] - ETA: 0s - loss: 0.3650 - acc: 0.8438Epoch 1/30\n",
            "10/5 [============================================================] - 0s 9ms/sample - loss: 0.3780 - acc: 0.6000\n",
            "5/5 [==============================] - 0s 100ms/step - loss: 0.3660 - acc: 0.8500 - val_loss: 0.4504 - val_acc: 0.6000\n",
            "Epoch 23/30\n",
            "4/5 [=======================>......] - ETA: 0s - loss: 0.3355 - acc: 0.8750Epoch 1/30\n",
            "10/5 [============================================================] - 0s 8ms/sample - loss: 0.3627 - acc: 0.6000\n",
            "5/5 [==============================] - 1s 103ms/step - loss: 0.3280 - acc: 0.9000 - val_loss: 0.4363 - val_acc: 0.6000\n",
            "Epoch 24/30\n",
            "4/5 [=======================>......] - ETA: 0s - loss: 0.2640 - acc: 0.9688Epoch 1/30\n",
            "10/5 [============================================================] - 0s 8ms/sample - loss: 0.3473 - acc: 0.7000\n",
            "5/5 [==============================] - 1s 115ms/step - loss: 0.2582 - acc: 0.9750 - val_loss: 0.4214 - val_acc: 0.7000\n",
            "Epoch 25/30\n",
            "4/5 [=======================>......] - ETA: 0s - loss: 0.2848 - acc: 0.9062Epoch 1/30\n",
            "10/5 [============================================================] - 0s 9ms/sample - loss: 0.3351 - acc: 0.8000\n",
            "5/5 [==============================] - 1s 112ms/step - loss: 0.2928 - acc: 0.9250 - val_loss: 0.4099 - val_acc: 0.8000\n",
            "Epoch 26/30\n",
            "4/5 [=======================>......] - ETA: 0s - loss: 0.2704 - acc: 0.9688Epoch 1/30\n",
            "10/5 [============================================================] - 0s 9ms/sample - loss: 0.3256 - acc: 0.7000\n",
            "5/5 [==============================] - 1s 116ms/step - loss: 0.2910 - acc: 0.9500 - val_loss: 0.4034 - val_acc: 0.7000\n",
            "Epoch 27/30\n",
            "4/5 [=======================>......] - ETA: 0s - loss: 0.2347 - acc: 1.0000Epoch 1/30\n",
            "10/5 [============================================================] - 0s 8ms/sample - loss: 0.3195 - acc: 0.7000\n",
            "5/5 [==============================] - 1s 114ms/step - loss: 0.2356 - acc: 1.0000 - val_loss: 0.4010 - val_acc: 0.7000\n",
            "Epoch 28/30\n",
            "4/5 [=======================>......] - ETA: 0s - loss: 0.3156 - acc: 0.8750Epoch 1/30\n",
            "10/5 [============================================================] - 0s 9ms/sample - loss: 0.3083 - acc: 0.7000\n",
            "5/5 [==============================] - 1s 119ms/step - loss: 0.3279 - acc: 0.8750 - val_loss: 0.3926 - val_acc: 0.7000\n",
            "Epoch 29/30\n",
            "4/5 [=======================>......] - ETA: 0s - loss: 0.2388 - acc: 1.0000Epoch 1/30\n",
            "10/5 [============================================================] - 0s 9ms/sample - loss: 0.2945 - acc: 0.8000\n",
            "5/5 [==============================] - 0s 97ms/step - loss: 0.2490 - acc: 0.9750 - val_loss: 0.3802 - val_acc: 0.8000\n",
            "Epoch 30/30\n",
            "4/5 [=======================>......] - ETA: 0s - loss: 0.1886 - acc: 0.9688Epoch 1/30\n",
            "10/5 [============================================================] - 0s 9ms/sample - loss: 0.2891 - acc: 0.7000\n",
            "5/5 [==============================] - 1s 108ms/step - loss: 0.1982 - acc: 0.9750 - val_loss: 0.3769 - val_acc: 0.7000\n"
          ],
          "name": "stdout"
        }
      ]
    },
    {
      "cell_type": "code",
      "metadata": {
        "id": "knsNNpLtAZ7-",
        "colab_type": "code",
        "colab": {
          "base_uri": "https://localhost:8080/",
          "height": 35
        },
        "outputId": "5bd9a21f-7c67-4426-e8e1-897b0efeb8dc"
      },
      "source": [
        "# make predictions on the testing set\n",
        "print(\"[INFO] evaluating network...\")\n",
        "predIdxs = model.predict(testX, batch_size=BS)"
      ],
      "execution_count": 18,
      "outputs": [
        {
          "output_type": "stream",
          "text": [
            "[INFO] evaluating network...\n"
          ],
          "name": "stdout"
        }
      ]
    },
    {
      "cell_type": "code",
      "metadata": {
        "id": "ecJIAB1ECjOP",
        "colab_type": "code",
        "colab": {}
      },
      "source": [
        "# for each image in the testing set we need to find the index of the\n",
        "# label with corresponding largest predicted probability\n",
        "predIdxs = np.argmax(predIdxs, axis=1)"
      ],
      "execution_count": 0,
      "outputs": []
    },
    {
      "cell_type": "code",
      "metadata": {
        "id": "clmEAEkYDdqA",
        "colab_type": "code",
        "colab": {
          "base_uri": "https://localhost:8080/",
          "height": 177
        },
        "outputId": "4d3eb430-fe3b-419b-80ae-234054555d27"
      },
      "source": [
        "# show a nicely formatted classification report\n",
        "print(classification_report(testY.argmax(axis=1), predIdxs, target_names=lb.classes_))"
      ],
      "execution_count": 20,
      "outputs": [
        {
          "output_type": "stream",
          "text": [
            "              precision    recall  f1-score   support\n",
            "\n",
            "       covid       0.67      0.80      0.73         5\n",
            "      normal       0.75      0.60      0.67         5\n",
            "\n",
            "    accuracy                           0.70        10\n",
            "   macro avg       0.71      0.70      0.70        10\n",
            "weighted avg       0.71      0.70      0.70        10\n",
            "\n"
          ],
          "name": "stdout"
        }
      ]
    },
    {
      "cell_type": "code",
      "metadata": {
        "id": "IwK_ug9pDhkc",
        "colab_type": "code",
        "colab": {}
      },
      "source": [
        "# compute the confusion matrix and and use it to derive the raw\n",
        "# accuracy, sensitivity, and specificity\n",
        "cm = confusion_matrix(testY.argmax(axis=1), predIdxs)\n",
        "total = sum(sum(cm))\n",
        "acc = (cm[0, 0] + cm[1, 1]) / total\n",
        "sensitivity = cm[0, 0] / (cm[0, 0] + cm[0, 1])\n",
        "specificity = cm[1, 1] / (cm[1, 0] + cm[1, 1])"
      ],
      "execution_count": 0,
      "outputs": []
    },
    {
      "cell_type": "code",
      "metadata": {
        "id": "zG4dc3g0DjSE",
        "colab_type": "code",
        "colab": {
          "base_uri": "https://localhost:8080/",
          "height": 106
        },
        "outputId": "f9eca069-8fd7-4af7-ba7a-49f0f0e8a885"
      },
      "source": [
        "# show the confusion matrix, accuracy, sensitivity, and specificity\n",
        "print(cm)\n",
        "print(\"acc: {:.4f}\".format(acc))\n",
        "print(\"sensitivity: {:.4f}\".format(sensitivity))\n",
        "print(\"specificity: {:.4f}\".format(specificity))"
      ],
      "execution_count": 22,
      "outputs": [
        {
          "output_type": "stream",
          "text": [
            "[[4 1]\n",
            " [2 3]]\n",
            "acc: 0.7000\n",
            "sensitivity: 0.8000\n",
            "specificity: 0.6000\n"
          ],
          "name": "stdout"
        }
      ]
    },
    {
      "cell_type": "code",
      "metadata": {
        "id": "GgjQHgjRDmOA",
        "colab_type": "code",
        "colab": {
          "base_uri": "https://localhost:8080/",
          "height": 299
        },
        "outputId": "2d19ce8b-12e7-40ef-a6d1-570c7d26c782"
      },
      "source": [
        "# plot the training loss and accuracy\n",
        "N = EPOCHS\n",
        "plt.style.use(\"ggplot\")\n",
        "plt.figure()\n",
        "plt.plot(np.arange(0, 30), H.history[\"loss\"], label=\"train_loss\")\n",
        "plt.plot(np.arange(0, 30), H.history[\"val_loss\"], label=\"val_loss\")\n",
        "plt.plot(np.arange(0, 30), H.history[\"acc\"], label=\"train_acc\")\n",
        "plt.plot(np.arange(0, 30), H.history[\"val_acc\"], label=\"val_acc\")\n",
        "plt.title(\"Training Loss and Accuracy on COVID-19 Dataset\")\n",
        "plt.xlabel(\"Epoch #\")\n",
        "plt.ylabel(\"Loss/Accuracy\")\n",
        "plt.legend(loc=\"lower left\")\n",
        "plt.savefig(\"plot.png\")"
      ],
      "execution_count": 24,
      "outputs": [
        {
          "output_type": "display_data",
          "data": {
            "image/png": "[encoded data removed]",
            "text/plain": [
              "<Figure size 432x288 with 1 Axes>"
            ]
          },
          "metadata": {
            "tags": []
          }
        }
      ]
    },
    {
      "cell_type": "code",
      "metadata": {
        "id": "ulNuCJUeDuFZ",
        "colab_type": "code",
        "colab": {}
      },
      "source": [
        ""
      ],
      "execution_count": 0,
      "outputs": []
    }
  ]
}